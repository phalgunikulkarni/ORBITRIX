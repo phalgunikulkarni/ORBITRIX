{
 "cells": [
  {
   "cell_type": "markdown",
   "id": "8adc3c74",
   "metadata": {},
   "source": [
    "# Bangalore Traffic Density Analysis\n",
    "\n",
    "This notebook focuses on analyzing traffic density specifically within Bangalore city limits. This targeted approach helps reduce storage and processing requirements while providing more accurate predictions for the local traffic patterns."
   ]
  },
  {
   "cell_type": "code",
   "execution_count": null,
   "id": "471d366b",
   "metadata": {},
   "outputs": [],
   "source": [
    "# Define Bangalore city boundaries\n",
    "BANGALORE_BOUNDS = {\n",
    "    'north': 13.023577,\n",
    "    'south': 12.923210,\n",
    "    'east': 77.642256,\n",
    "    'west': 77.538899\n",
    "}\n",
    "\n",
    "def is_within_bangalore(lat, lon):\n",
    "    \"\"\"Check if coordinates are within Bangalore city limits\"\"\"\n",
    "    return (BANGALORE_BOUNDS['south'] <= lat <= BANGALORE_BOUNDS['north'] and\n",
    "            BANGALORE_BOUNDS['west'] <= lon <= BANGALORE_BOUNDS['east'])\n",
    "\n",
    "# Filter function for traffic data\n",
    "def filter_bangalore_data(df):\n",
    "    \"\"\"Filter traffic data to only include points within Bangalore\"\"\"\n",
    "    return df[df.apply(lambda row: is_within_bangalore(row['latitude'], row['longitude']), axis=1)]"
   ]
  },
  {
   "cell_type": "markdown",
   "id": "142c12f1",
   "metadata": {},
   "source": [
    "## Bangalore-Specific Traffic Patterns\n",
    "\n",
    "Bangalore has unique traffic patterns due to:\n",
    "1. High concentration of IT corridors\n",
    "2. Metro construction zones\n",
    "3. Peak hours different from other cities (due to IT industry)\n",
    "4. Specific congestion hotspots\n",
    "\n",
    "We'll adjust our analysis to account for these factors."
   ]
  },
  {
   "cell_type": "markdown",
   "id": "cf34795b",
   "metadata": {},
   "source": [
    "# Traffic Density Analysis for Vehicle Safety\n",
    "\n",
    "This notebook implements traffic density estimation using YOLOv8 for improving vehicle safety predictions in the ORBITRIX app. We'll use data from Kaggle to train and evaluate our model."
   ]
  },
  {
   "cell_type": "markdown",
   "id": "6e69b298",
   "metadata": {},
   "source": [
    "## 1. Kaggle API Setup\n",
    "\n",
    "First, we'll set up the Kaggle API to access the dataset. You'll need to:\n",
    "1. Install the Kaggle package\n",
    "2. Set up your Kaggle API credentials"
   ]
  },
  {
   "cell_type": "code",
   "execution_count": null,
   "id": "00d39fcd",
   "metadata": {},
   "outputs": [],
   "source": [
    "# Install required packages\n",
    "!pip install kaggle\n",
    "!pip install ultralytics\n",
    "!pip install opencv-python-headless\n",
    "!pip install pandas numpy matplotlib seaborn"
   ]
  },
  {
   "cell_type": "code",
   "execution_count": null,
   "id": "54598212",
   "metadata": {},
   "outputs": [],
   "source": [
    "import os\n",
    "from pathlib import Path\n",
    "\n",
    "# Set up Kaggle credentials\n",
    "# You need to place your kaggle.json file in ~/.kaggle/\n",
    "kaggle_path = Path.home() / '.kaggle'\n",
    "kaggle_path.mkdir(exist_ok=True)\n",
    "\n",
    "# Note: You need to download kaggle.json from your Kaggle account settings\n",
    "# and place it in the ~/.kaggle directory\n",
    "print(\"Please ensure you have placed your kaggle.json file in:\", kaggle_path)"
   ]
  },
  {
   "cell_type": "markdown",
   "id": "fdccc1be",
   "metadata": {},
   "source": [
    "## 2. Download Traffic Dataset\n",
    "\n",
    "Now we'll download the traffic dataset from Kaggle. We'll use a dataset that contains traffic video footage for density estimation."
   ]
  },
  {
   "cell_type": "code",
   "execution_count": null,
   "id": "aa6f018e",
   "metadata": {},
   "outputs": [],
   "source": [
    "# Download dataset\n",
    "!kaggle datasets download -d farzadnekouei/real-time-traffic-density-estimation-with-yolov8\n",
    "\n",
    "# Create data directory and extract dataset\n",
    "data_dir = Path('data')\n",
    "data_dir.mkdir(exist_ok=True)\n",
    "!unzip real-time-traffic-density-estimation-with-yolov8.zip -d data/"
   ]
  },
  {
   "cell_type": "markdown",
   "id": "a1fa826a",
   "metadata": {},
   "source": [
    "## 3. Data Preprocessing\n",
    "\n",
    "Let's prepare our data for the YOLOv8 model by implementing preprocessing functions for video frames."
   ]
  },
  {
   "cell_type": "code",
   "execution_count": null,
   "id": "ed911ca0",
   "metadata": {},
   "outputs": [],
   "source": [
    "import cv2\n",
    "import numpy as np\n",
    "from ultralytics import YOLO\n",
    "\n",
    "def preprocess_frame(frame, target_size=(640, 640)):\n",
    "    \"\"\"Preprocess a single frame for YOLOv8\"\"\"\n",
    "    # Resize frame\n",
    "    frame = cv2.resize(frame, target_size)\n",
    "    \n",
    "    # Convert BGR to RGB\n",
    "    frame = cv2.cvtColor(frame, cv2.COLOR_BGR2RGB)\n",
    "    \n",
    "    # Normalize pixel values\n",
    "    frame = frame / 255.0\n",
    "    \n",
    "    return frame.astype(np.float32)"
   ]
  },
  {
   "cell_type": "markdown",
   "id": "e4ee96e7",
   "metadata": {},
   "source": [
    "## 4. YOLOv8 Model Integration\n",
    "\n",
    "Now we'll set up the YOLOv8 model for traffic detection. We'll use a pre-trained model and fine-tune it for our specific use case."
   ]
  },
  {
   "cell_type": "code",
   "execution_count": null,
   "id": "5cd60b1c",
   "metadata": {},
   "outputs": [],
   "source": [
    "# Load YOLOv8 model\n",
    "model = YOLO('yolov8n.pt')  # Load the smallest YOLOv8 model\n",
    "\n",
    "# Define vehicle classes of interest (COCO dataset indices)\n",
    "VEHICLE_CLASSES = [2, 3, 5, 7]  # car, motorcycle, bus, truck\n",
    "\n",
    "def process_detections(results, conf_threshold=0.25):\n",
    "    \"\"\"Process YOLOv8 detections and filter vehicle classes\"\"\"\n",
    "    vehicles = []\n",
    "    \n",
    "    for r in results:\n",
    "        boxes = r.boxes\n",
    "        for box in boxes:\n",
    "            cls = int(box.cls[0])\n",
    "            conf = float(box.conf[0])\n",
    "            \n",
    "            if cls in VEHICLE_CLASSES and conf > conf_threshold:\n",
    "                x1, y1, x2, y2 = box.xyxy[0].cpu().numpy()\n",
    "                vehicles.append({\n",
    "                    'class': cls,\n",
    "                    'confidence': conf,\n",
    "                    'bbox': [x1, y1, x2, y2]\n",
    "                })\n",
    "    \n",
    "    return vehicles"
   ]
  },
  {
   "cell_type": "markdown",
   "id": "d8ac274b",
   "metadata": {},
   "source": [
    "## 5. Traffic Density Analysis\n",
    "\n",
    "Let's implement functions to analyze traffic density based on the detected vehicles."
   ]
  },
  {
   "cell_type": "code",
   "execution_count": null,
   "id": "5ee84e24",
   "metadata": {},
   "outputs": [],
   "source": [
    "def calculate_traffic_density(vehicles, frame_area):\n",
    "    \"\"\"Calculate traffic density based on detected vehicles\"\"\"\n",
    "    # Calculate total area occupied by vehicles\n",
    "    vehicle_area = 0\n",
    "    for vehicle in vehicles:\n",
    "        bbox = vehicle['bbox']\n",
    "        width = bbox[2] - bbox[0]\n",
    "        height = bbox[3] - bbox[1]\n",
    "        vehicle_area += width * height\n",
    "    \n",
    "    # Calculate density as percentage of frame covered by vehicles\n",
    "    density = (vehicle_area / frame_area) * 100\n",
    "    \n",
    "    return {\n",
    "        'vehicle_count': len(vehicles),\n",
    "        'density_percentage': density,\n",
    "        'congestion_level': get_congestion_level(density)\n",
    "    }\n",
    "\n",
    "def get_congestion_level(density):\n",
    "    \"\"\"Determine traffic congestion level based on density\"\"\"\n",
    "    if density < 10:\n",
    "        return \"Low\"\n",
    "    elif density < 25:\n",
    "        return \"Moderate\"\n",
    "    else:\n",
    "        return \"High\""
   ]
  },
  {
   "cell_type": "markdown",
   "id": "b0f4ff8e",
   "metadata": {},
   "source": [
    "## 6. Model Evaluation\n",
    "\n",
    "Let's evaluate our traffic density estimation model using some test videos."
   ]
  },
  {
   "cell_type": "code",
   "execution_count": null,
   "id": "b85835d4",
   "metadata": {},
   "outputs": [],
   "source": [
    "def evaluate_model(video_path):\n",
    "    \"\"\"Evaluate model performance on a test video\"\"\"\n",
    "    cap = cv2.VideoCapture(video_path)\n",
    "    frame_count = 0\n",
    "    total_density = 0\n",
    "    results = []\n",
    "    \n",
    "    while cap.isOpened():\n",
    "        ret, frame = cap.read()\n",
    "        if not ret:\n",
    "            break\n",
    "            \n",
    "        # Preprocess frame\n",
    "        processed_frame = preprocess_frame(frame)\n",
    "        \n",
    "        # Run detection\n",
    "        detections = model(processed_frame)\n",
    "        vehicles = process_detections(detections)\n",
    "        \n",
    "        # Calculate density\n",
    "        frame_area = frame.shape[0] * frame.shape[1]\n",
    "        density_info = calculate_traffic_density(vehicles, frame_area)\n",
    "        \n",
    "        results.append(density_info)\n",
    "        total_density += density_info['density_percentage']\n",
    "        frame_count += 1\n",
    "    \n",
    "    cap.release()\n",
    "    \n",
    "    # Calculate average metrics\n",
    "    avg_density = total_density / frame_count if frame_count > 0 else 0\n",
    "    \n",
    "    return {\n",
    "        'average_density': avg_density,\n",
    "        'frame_count': frame_count,\n",
    "        'detailed_results': results\n",
    "    }\n",
    "\n",
    "# Example usage\n",
    "test_video = 'data/test_video.mp4'  # Update with your test video path\n",
    "if os.path.exists(test_video):\n",
    "    results = evaluate_model(test_video)\n",
    "    print(f\"Average Traffic Density: {results['average_density']:.2f}%\")\n",
    "    print(f\"Frames Processed: {results['frame_count']}\")"
   ]
  }
 ],
 "metadata": {
  "language_info": {
   "name": "python"
  }
 },
 "nbformat": 4,
 "nbformat_minor": 5
}
